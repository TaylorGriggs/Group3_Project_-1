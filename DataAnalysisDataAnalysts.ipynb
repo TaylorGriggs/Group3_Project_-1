{
 "cells": [
  {
   "cell_type": "markdown",
   "id": "3db5fa48",
   "metadata": {},
   "source": [
    "# Data Analysis of Data Analysts\n",
    "\n",
    "Project 1"
   ]
  },
  {
   "cell_type": "code",
   "execution_count": 1,
   "id": "96543fc7",
   "metadata": {},
   "outputs": [],
   "source": [
    "# Dependencies and Setup\n",
    "import os\n",
    "import csv\n",
    "import pandas as pd\n",
    "from pathlib import Path\n",
    "from matplotlib import pyplot as plt\n",
    "import matplotlib.pyplot as plt\n",
    "from scipy.stats import sem\n",
    "from scipy.stats import linregress\n",
    "import scipy.stats as st\n",
    "import numpy as np\n",
    "import requests\n",
    "import json\n",
    "\n",
    "# Import the API key\n",
    "# from census import Census\n",
    "# from config import geoapify_key\n",
    "\n",
    "# File to Load (Remember to Change These)\n",
    "#  = Path(\"../Resources/schools_complete.csv\")\n",
    "#  = Path(\"../Resources/students_complete.csv\")\n",
    "\n",
    "# Read School and Student Data File and store into Pandas DataFrames\n",
    "#  = pd.read_csv(school_data_to_load)\n",
    "#  = pd.read_csv(student_data_to_load)\n",
    "\n",
    "# Combine the data into a single dataset.  "
   ]
  },
  {
   "cell_type": "code",
   "execution_count": 2,
   "id": "52b77e60",
   "metadata": {},
   "outputs": [
    {
     "ename": "SyntaxError",
     "evalue": "invalid decimal literal (868331920.py, line 1)",
     "output_type": "error",
     "traceback": [
      "\u001b[1;36m  Cell \u001b[1;32mIn[2], line 1\u001b[1;36m\u001b[0m\n\u001b[1;33m    base_url = https://api.careeronestop.org/v1/occupation/ugcMWBfqfagOmvO/Data%20Scientists/CA?training=true&interest=false&videos=false&tasks=false&dwas=false&wages=true&alternateOnetTitles=false&projectedEmployment=false&ooh=false&stateLMILinks=false&relatedOnetTitles=false&skills=false&knowledge=false&ability=false&trainingPrograms=false\u001b[0m\n\u001b[1;37m                                                                                 ^\u001b[0m\n\u001b[1;31mSyntaxError\u001b[0m\u001b[1;31m:\u001b[0m invalid decimal literal\n"
     ]
    }
   ],
   "source": [
    "base_url = https://api.careeronestop.org/v1/occupation/ugcMWBfqfagOmvO/Data%20Scientists/CA\n",
    "\n",
    "params = {\n",
    "- \"training\": false\n",
    "- \"interest\": false\n",
    "- \"videos\": false\n",
    "- \"tasks\": false\n",
    "- \"dwas\": false\n",
    "- \"wages\": true\n",
    "- alternateOnetTitles=false\n",
    "- projectedEmployment=false\n",
    "- ooh=false\n",
    "- stateLMILinks=false\n",
    "- relatedOnetTitles=false\n",
    "- skills=false\n",
    "- knowledge=false\n",
    "- ability=false\n",
    "- trainingPrograms=false}\n",
    "    \n",
    "    \n",
    "data_test = requests.get(base_url).json() \n",
    "    "
   ]
  }
 ],
 "metadata": {
  "kernelspec": {
   "display_name": "Python 3 (ipykernel)",
   "language": "python",
   "name": "python3"
  },
  "language_info": {
   "codemirror_mode": {
    "name": "ipython",
    "version": 3
   },
   "file_extension": ".py",
   "mimetype": "text/x-python",
   "name": "python",
   "nbconvert_exporter": "python",
   "pygments_lexer": "ipython3",
   "version": "3.10.13"
  }
 },
 "nbformat": 4,
 "nbformat_minor": 5
}
