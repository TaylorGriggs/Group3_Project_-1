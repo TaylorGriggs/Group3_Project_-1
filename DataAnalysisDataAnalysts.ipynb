{
 "cells": [
  {
   "cell_type": "markdown",
   "id": "3db5fa48",
   "metadata": {},
   "source": [
    "# Data Analysis of Data Analysts\n",
    "\n",
    "Project 1"
   ]
  },
  {
   "cell_type": "code",
   "execution_count": 12,
   "id": "96543fc7",
   "metadata": {},
   "outputs": [],
   "source": [
    "# Dependencies and Setup\n",
    "import os\n",
    "import csv\n",
    "import pandas as pd\n",
    "from pathlib import Path\n",
    "from matplotlib import pyplot as plt\n",
    "import matplotlib.pyplot as plt\n",
    "from scipy.stats import sem\n",
    "from scipy.stats import linregress\n",
    "import scipy.stats as st\n",
    "import numpy as np\n",
    "import requests\n",
    "import json\n",
    "\n",
    "# Import the API key\n",
    "# from census import Census\n",
    "# from config import geoapify_key\n",
    "\n",
    "# File to Load (Remember to Change These)\n",
    "#  = Path(\"../Resources/schools_complete.csv\")\n",
    "#  = Path(\"../Resources/students_complete.csv\")\n",
    "\n",
    "# Read School and Student Data File and store into Pandas DataFrames\n",
    "#  = pd.read_csv(school_data_to_load)\n",
    "#  = pd.read_csv(student_data_to_load)\n",
    "\n",
    "# Combine the data into a single dataset.  "
   ]
  },
  {
   "cell_type": "code",
   "execution_count": 20,
   "id": "f90cfc4c",
   "metadata": {},
   "outputs": [
    {
     "data": {
      "text/plain": [
       "{'OccupationDetail': [{'OnetTitle': 'Data Scientists',\n",
       "   'OnetCode': '15-2051.00',\n",
       "   'OnetDescription': 'Develop and implement a set of techniques or analytics applications to transform raw data into meaningful information using data-oriented programming languages and visualization software. Apply data mining, data modeling, natural language processing, and machine learning to extract and analyze information from large structured and unstructured datasets. Visualize, interpret, and report data findings. May create dynamic data reports.',\n",
       "   'Wages': {'NationalWagesList': [{'RateType': 'Annual',\n",
       "      'Pct10': '58510',\n",
       "      'Pct25': '77140',\n",
       "      'Median': '103500',\n",
       "      'Pct75': '136600',\n",
       "      'Pct90': '174790',\n",
       "      'StFips': '00',\n",
       "      'Area': '000000',\n",
       "      'AreaName': 'United States'},\n",
       "     {'RateType': 'Hourly',\n",
       "      'Pct10': '28.13',\n",
       "      'Pct25': '37.09',\n",
       "      'Median': '49.76',\n",
       "      'Pct75': '65.68',\n",
       "      'Pct90': '84.03',\n",
       "      'StFips': '00',\n",
       "      'Area': '000000',\n",
       "      'AreaName': 'United States'}],\n",
       "    'StateWagesList': [],\n",
       "    'BLSAreaWagesList': [],\n",
       "    'WageYear': '2022',\n",
       "    'SocData': 'Yes',\n",
       "    'SocWageInfo': {'SocCode': '152051',\n",
       "     'SocTitle': 'Data Scientists',\n",
       "     'SocDescription': None}},\n",
       "   'BrightOutlook': 'Bright',\n",
       "   'Green': 'No',\n",
       "   'COSVideoURL': 'https://www.careeronestop.org/Videos/careeronestop-videos.aspx?videocode=15205100&op=y',\n",
       "   'BrightOutlookCategory': 'Rapid Growth',\n",
       "   'AlternateTitles': None,\n",
       "   'StFips': '00',\n",
       "   'Location': 'US',\n",
       "   'SocInfo': {'SocCode': '152051',\n",
       "    'SocTitle': 'Data Scientists',\n",
       "    'SocDescription': 'Develop and implement a set of techniques or analytics applications to transform raw data into meaningful information using data-oriented programming languages and visualization software. Apply data mining, data modeling, natural language processing, and machine learning to extract and analyze information from large structured and unstructured datasets. Visualize, interpret, and report data findings. May create dynamic data reports.'},\n",
       "   'RelatedOnetTitles': None,\n",
       "   'TrainingPrograms': None}],\n",
       " 'RecordCount': 1,\n",
       " 'DidYouMean': '',\n",
       " 'AutoCorrection': ''}"
      ]
     },
     "execution_count": 20,
     "metadata": {},
     "output_type": "execute_result"
    }
   ],
   "source": [
    "from config import acct_id\n",
    "from config import api_key \n",
    "\n",
    "api_url = f'''https://api.careeronestop.org/v1/occupation/{acct_id}/Data%20Scientists/0?training=false\n",
    "&interest=false&videos=false&tasks=false&dwas=false&wages=true\n",
    "&alternateOnetTitles=false&projectedEmployment=false&ooh=false\n",
    "&stateLMILinks=false&relatedOnetTitles=false&skills=false&knowledge=false\n",
    "&ability=false&trainingPrograms=false'''\n",
    "\n",
    "headers = {\"Authorization\": f\"Bearer {api_key}\"}\n",
    "response = requests.get(api_url, headers=headers).json()\n",
    "response\n",
    "\n",
    "\n"
   ]
  },
  {
   "cell_type": "code",
   "execution_count": null,
   "id": "3b4b7a91",
   "metadata": {},
   "outputs": [],
   "source": []
  }
 ],
 "metadata": {
  "kernelspec": {
   "display_name": "Python 3 (ipykernel)",
   "language": "python",
   "name": "python3"
  },
  "language_info": {
   "codemirror_mode": {
    "name": "ipython",
    "version": 3
   },
   "file_extension": ".py",
   "mimetype": "text/x-python",
   "name": "python",
   "nbconvert_exporter": "python",
   "pygments_lexer": "ipython3",
   "version": "3.10.13"
  }
 },
 "nbformat": 4,
 "nbformat_minor": 5
}
