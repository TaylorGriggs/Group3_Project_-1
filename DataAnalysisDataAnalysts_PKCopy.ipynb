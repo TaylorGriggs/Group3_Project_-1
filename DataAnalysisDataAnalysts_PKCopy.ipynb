{
 "cells": [
  {
   "cell_type": "markdown",
   "id": "3db5fa48",
   "metadata": {},
   "source": [
    "# Data Analysis of Data Analysts\n",
    "\n",
    "Project 1"
   ]
  },
  {
   "cell_type": "code",
   "execution_count": 1,
   "id": "96543fc7",
   "metadata": {},
   "outputs": [],
   "source": [
    "# Dependencies and Setup\n",
    "# import os\n",
    "import csv\n",
    "import pandas as pd\n",
    "# from pathlib import Path\n",
    "# from matplotlib import pyplot as plt\n",
    "import matplotlib.pyplot as plt\n",
    "# from scipy.stats import sem\n",
    "from scipy.stats import linregress\n",
    "# import scipy.stats as st\n",
    "import numpy as np\n",
    "import requests\n",
    "import json\n",
    "from config import acct_id\n",
    "from config import api_key \n"
   ]
  },
  {
   "cell_type": "code",
   "execution_count": 2,
   "id": "b6da31f2",
   "metadata": {},
   "outputs": [
    {
     "data": {
      "text/html": [
       "<div>\n",
       "<style scoped>\n",
       "    .dataframe tbody tr th:only-of-type {\n",
       "        vertical-align: middle;\n",
       "    }\n",
       "\n",
       "    .dataframe tbody tr th {\n",
       "        vertical-align: top;\n",
       "    }\n",
       "\n",
       "    .dataframe thead th {\n",
       "        text-align: right;\n",
       "    }\n",
       "</style>\n",
       "<table border=\"1\" class=\"dataframe\">\n",
       "  <thead>\n",
       "    <tr style=\"text-align: right;\">\n",
       "      <th></th>\n",
       "      <th>City</th>\n",
       "      <th>State</th>\n",
       "      <th># of Analysts - City</th>\n",
       "      <th>Median Salary - City</th>\n",
       "    </tr>\n",
       "  </thead>\n",
       "  <tbody>\n",
       "    <tr>\n",
       "      <th>0</th>\n",
       "      <td>San Francisco</td>\n",
       "      <td>CA</td>\n",
       "      <td></td>\n",
       "      <td></td>\n",
       "    </tr>\n",
       "    <tr>\n",
       "      <th>1</th>\n",
       "      <td>San Jose</td>\n",
       "      <td>CA</td>\n",
       "      <td></td>\n",
       "      <td></td>\n",
       "    </tr>\n",
       "    <tr>\n",
       "      <th>2</th>\n",
       "      <td>Seattle</td>\n",
       "      <td>WA</td>\n",
       "      <td></td>\n",
       "      <td></td>\n",
       "    </tr>\n",
       "    <tr>\n",
       "      <th>3</th>\n",
       "      <td>New York City</td>\n",
       "      <td>NY</td>\n",
       "      <td></td>\n",
       "      <td></td>\n",
       "    </tr>\n",
       "    <tr>\n",
       "      <th>4</th>\n",
       "      <td>Boston</td>\n",
       "      <td>MA</td>\n",
       "      <td></td>\n",
       "      <td></td>\n",
       "    </tr>\n",
       "    <tr>\n",
       "      <th>5</th>\n",
       "      <td>Austin</td>\n",
       "      <td>TX</td>\n",
       "      <td></td>\n",
       "      <td></td>\n",
       "    </tr>\n",
       "  </tbody>\n",
       "</table>\n",
       "</div>"
      ],
      "text/plain": [
       "            City State # of Analysts - City Median Salary - City\n",
       "0  San Francisco    CA                                          \n",
       "1       San Jose    CA                                          \n",
       "2        Seattle    WA                                          \n",
       "3  New York City    NY                                          \n",
       "4         Boston    MA                                          \n",
       "5         Austin    TX                                          "
      ]
     },
     "execution_count": 2,
     "metadata": {},
     "output_type": "execute_result"
    }
   ],
   "source": [
    "city_state = {\n",
    "    'City': [\"San Francisco\", \"San Jose\", \"Seattle\", \"New York City\", \"Boston\", \"Austin\"],\n",
    "    'State': [\"CA\", \"CA\", \"WA\", \"NY\", \"MA\", \"TX\"]}\n",
    "    \n",
    "city_df = pd.DataFrame(city_state)\n",
    "city_df[['# of Analysts - City', 'Median Salary - City']] = \"\"\n",
    "\n",
    "city_df"
   ]
  },
  {
   "cell_type": "code",
   "execution_count": null,
   "id": "cb083391",
   "metadata": {},
   "outputs": [],
   "source": [
    "# for state in states:\n",
    "#     api_url = base_url + show\n",
    "#     response = requests.get(target_url).json()\n",
    "#     titles.append(response[0]['show']['name'])\n",
    "#     ratings.append(response[0]['show']['rating']['average'])\n",
    "    "
   ]
  },
  {
   "cell_type": "code",
   "execution_count": 11,
   "id": "222c008d",
   "metadata": {},
   "outputs": [],
   "source": [
    "api_url = f'''https://api.careeronestop.org/v1/occupation/{acct_id}/Data%20Scientists/0?training=false\n",
    "&interest=false&videos=false&tasks=false&dwas=false&wages=true\n",
    "&alternateOnetTitles=false&projectedEmployment=false&ooh=false\n",
    "&stateLMILinks=false&relatedOnetTitles=false&skills=false&knowledge=false\n",
    "&ability=false&trainingPrograms=false'''\n",
    "\n",
    "headers = {\"Authorization\": f\"Bearer {api_key}\"}\n",
    "nat_response = requests.get(api_url, headers=headers).json()\n",
    "# response\n",
    "\n",
    "# print(json.dumps(nat_response, indent=4, sort_keys=True))"
   ]
  },
  {
   "cell_type": "code",
   "execution_count": 10,
   "id": "286593e6",
   "metadata": {},
   "outputs": [
    {
     "data": {
      "text/plain": [
       "'103500'"
      ]
     },
     "execution_count": 10,
     "metadata": {},
     "output_type": "execute_result"
    }
   ],
   "source": [
    "nat_median_salary = nat_response[\"OccupationDetail\"][0][\"Wages\"][\"NationalWagesList\"][0][\"Median\"]\n",
    "nat_median_salary"
   ]
  },
  {
   "cell_type": "code",
   "execution_count": 12,
   "id": "f04ef027",
   "metadata": {},
   "outputs": [],
   "source": [
    "state_url = (f'https://api.careeronestop.org/v1/occupation/{acct_id}/'\n",
    "             'Data%20Scientists/WA?training=false&interest=true&videos=false'\n",
    "             '&tasks=false&dwas=false&wages=true&alternateOnetTitles=false'\n",
    "             '&projectedEmployment=false&ooh=false&stateLMILinks=false'\n",
    "             '&relatedOnetTitles=false&skills=false&knowledge=false'\n",
    "             '&ability=false&trainingPrograms=false')\n",
    "\n",
    "headers = {\"Authorization\": f\"Bearer {api_key}\"}\n",
    "state_response = requests.get(state_url, headers = headers).json()\n",
    "# state_response\n",
    "\n",
    "# print(json.dumps(state_response, indent=4, sort_keys=True))\n",
    "\n"
   ]
  },
  {
   "cell_type": "code",
   "execution_count": 13,
   "id": "f90cfc4c",
   "metadata": {
    "scrolled": true
   },
   "outputs": [
    {
     "data": {
      "text/plain": [
       "'135850'"
      ]
     },
     "execution_count": 13,
     "metadata": {},
     "output_type": "execute_result"
    }
   ],
   "source": [
    "state_median_salary = state_response[\"OccupationDetail\"][0][\"Wages\"][\"StateWagesList\"][1][\"Median\"]\n",
    "\n",
    "state_median_salary"
   ]
  },
  {
   "cell_type": "code",
   "execution_count": 51,
   "id": "864bde48",
   "metadata": {},
   "outputs": [
    {
     "data": {
      "text/plain": [
       "'140560'"
      ]
     },
     "execution_count": 51,
     "metadata": {},
     "output_type": "execute_result"
    }
   ],
   "source": [
    "# city_url = (f'https://api.careeronestop.org/v1/occupation/{acct_id}/'\n",
    "#             'Data%20Scientists/Seattle%2C%20WA?training=false'\n",
    "#             '&interest=true&videos=false&tasks=false&dwas=false'\n",
    "#             '&wages=true&alternateOnetTitles=false&projectedEmployment=false'\n",
    "#             '&ooh=false&stateLMILinks=false&relatedOnetTitles=false&skills=false'\n",
    "#             '&knowledge=false&ability=false&trainingPrograms=false')\n",
    "city_url = f\"https://api.careeronestop.org/v1/occupation/{acct_id}/Data%20Scientists/Seattle%2C%20WA?training=false&interest=true&videos=false&tasks=false&dwas=false&wages=true&alternateOnetTitles=false&projectedEmployment=false&ooh=false&stateLMILinks=false&relatedOnetTitles=false&skills=false&knowledge=false&ability=false&trainingPrograms=false\"\n",
    "\n",
    "headers = {\"Authorization\": f\"Bearer {api_key}\"}\n",
    "city_response = requests.get(city_url, headers = headers).json()\n",
    "city_response\n",
    "\n",
    "city_median_salary = city_response[\"OccupationDetail\"][0]['Wages']['BLSAreaWagesList'][1][\"Median\"]\n",
    "\n",
    "city_median_salary"
   ]
  },
  {
   "cell_type": "code",
   "execution_count": null,
   "id": "db0f57ff",
   "metadata": {},
   "outputs": [],
   "source": []
  },
  {
   "cell_type": "code",
   "execution_count": null,
   "id": "3b4b7a91",
   "metadata": {},
   "outputs": [],
   "source": [
    "# cities = [\"San Francisco\", \"San Jose\"]\n",
    "# states = [\"CA\"]\n",
    "# api_urls = []\n",
    "\n",
    "# #for state in states:\n",
    "# for city in cities:\n",
    "#     api_url = f\"{base_url}/{job}/{city},%20{states}{params}\"\n",
    "#     api_urls.append(api_url)\n",
    "\n",
    "# for api_url in api_urls:\n",
    "#     print(api_urls)\n",
    "#     city_response = requests.get(api_url, headers=headers).json()\n",
    "# #response\n",
    "\n",
    "# print(json.dumps(city_response, indent=4, sort_keys=True))\n",
    "# # len(api_urls)\n",
    "# # request = requests.get(api_urls).json()\n",
    "# # add in the iterrows to help out\n",
    "\n"
   ]
  }
 ],
 "metadata": {
  "kernelspec": {
   "display_name": "Python 3 (ipykernel)",
   "language": "python",
   "name": "python3"
  },
  "language_info": {
   "codemirror_mode": {
    "name": "ipython",
    "version": 3
   },
   "file_extension": ".py",
   "mimetype": "text/x-python",
   "name": "python",
   "nbconvert_exporter": "python",
   "pygments_lexer": "ipython3",
   "version": "3.10.13"
  }
 },
 "nbformat": 4,
 "nbformat_minor": 5
}
