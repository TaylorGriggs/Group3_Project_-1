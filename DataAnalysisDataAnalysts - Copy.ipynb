{
 "cells": [
  {
   "cell_type": "markdown",
   "id": "3db5fa48",
   "metadata": {},
   "source": [
    "# Data Analysis of Data Analysts\n",
    "\n",
    "Project 1"
   ]
  },
  {
   "cell_type": "code",
   "execution_count": 1,
   "id": "96543fc7",
   "metadata": {},
   "outputs": [],
   "source": [
    "# Dependencies and Setup\n",
    "import os\n",
    "import csv\n",
    "import pandas as pd\n",
    "from pathlib import Path\n",
    "from matplotlib import pyplot as plt\n",
    "import matplotlib.pyplot as plt\n",
    "from scipy.stats import sem\n",
    "from scipy.stats import linregress\n",
    "import scipy.stats as st\n",
    "import numpy as np\n",
    "import requests\n",
    "import json\n",
    "\n",
    "# Import the API key\n",
    "# from census import Census\n",
    "# from config import geoapify_key\n",
    "\n",
    "# File to Load (Remember to Change These)\n",
    "#  = Path(\"../Resources/schools_complete.csv\")\n",
    "#  = Path(\"../Resources/students_complete.csv\")\n",
    "\n",
    "# Read School and Student Data File and store into Pandas DataFrames\n",
    "#  = pd.read_csv(school_data_to_load)\n",
    "#  = pd.read_csv(student_data_to_load)\n",
    "\n",
    "# Combine the data into a single dataset.  "
   ]
  },
  {
   "cell_type": "code",
   "execution_count": 5,
   "id": "f90cfc4c",
   "metadata": {},
   "outputs": [
    {
     "name": "stdout",
     "output_type": "stream",
     "text": [
      "[\"https://api.careeronestop.org/v1/occupation/ugcMWBfqfagOmvO/Data%20Scientists/San Francisco,%20['CA']?training=false&interest=true&videos=false&tasks=false&dwas=false&wages=true&alternateOnetTitles=false&projectedEmployment=true&ooh=false&stateLMILinks=false&relatedOnetTitles=false&skills=false&knowledge=false&ability=false&trainingPrograms=false\", \"https://api.careeronestop.org/v1/occupation/ugcMWBfqfagOmvO/Data%20Scientists/San Jose,%20['CA']?training=false&interest=true&videos=false&tasks=false&dwas=false&wages=true&alternateOnetTitles=false&projectedEmployment=true&ooh=false&stateLMILinks=false&relatedOnetTitles=false&skills=false&knowledge=false&ability=false&trainingPrograms=false\", \"https://api.careeronestop.org/v1/occupation/ugcMWBfqfagOmvO/Data%20Scientists/Austin,%20['CA']?training=false&interest=true&videos=false&tasks=false&dwas=false&wages=true&alternateOnetTitles=false&projectedEmployment=true&ooh=false&stateLMILinks=false&relatedOnetTitles=false&skills=false&knowledge=false&ability=false&trainingPrograms=false\"]\n",
      "[\"https://api.careeronestop.org/v1/occupation/ugcMWBfqfagOmvO/Data%20Scientists/San Francisco,%20['CA']?training=false&interest=true&videos=false&tasks=false&dwas=false&wages=true&alternateOnetTitles=false&projectedEmployment=true&ooh=false&stateLMILinks=false&relatedOnetTitles=false&skills=false&knowledge=false&ability=false&trainingPrograms=false\", \"https://api.careeronestop.org/v1/occupation/ugcMWBfqfagOmvO/Data%20Scientists/San Jose,%20['CA']?training=false&interest=true&videos=false&tasks=false&dwas=false&wages=true&alternateOnetTitles=false&projectedEmployment=true&ooh=false&stateLMILinks=false&relatedOnetTitles=false&skills=false&knowledge=false&ability=false&trainingPrograms=false\", \"https://api.careeronestop.org/v1/occupation/ugcMWBfqfagOmvO/Data%20Scientists/Austin,%20['CA']?training=false&interest=true&videos=false&tasks=false&dwas=false&wages=true&alternateOnetTitles=false&projectedEmployment=true&ooh=false&stateLMILinks=false&relatedOnetTitles=false&skills=false&knowledge=false&ability=false&trainingPrograms=false\"]\n",
      "[\"https://api.careeronestop.org/v1/occupation/ugcMWBfqfagOmvO/Data%20Scientists/San Francisco,%20['CA']?training=false&interest=true&videos=false&tasks=false&dwas=false&wages=true&alternateOnetTitles=false&projectedEmployment=true&ooh=false&stateLMILinks=false&relatedOnetTitles=false&skills=false&knowledge=false&ability=false&trainingPrograms=false\", \"https://api.careeronestop.org/v1/occupation/ugcMWBfqfagOmvO/Data%20Scientists/San Jose,%20['CA']?training=false&interest=true&videos=false&tasks=false&dwas=false&wages=true&alternateOnetTitles=false&projectedEmployment=true&ooh=false&stateLMILinks=false&relatedOnetTitles=false&skills=false&knowledge=false&ability=false&trainingPrograms=false\", \"https://api.careeronestop.org/v1/occupation/ugcMWBfqfagOmvO/Data%20Scientists/Austin,%20['CA']?training=false&interest=true&videos=false&tasks=false&dwas=false&wages=true&alternateOnetTitles=false&projectedEmployment=true&ooh=false&stateLMILinks=false&relatedOnetTitles=false&skills=false&knowledge=false&ability=false&trainingPrograms=false\"]\n"
     ]
    }
   ],
   "source": [
    "from config import acct_id\n",
    "from config import api_key\n",
    "\n",
    "#need to figure out how to pull specific city and state names\n",
    "#maybe use itterow method\n",
    "cities = [\"San Francisco\", \"San Jose\", \"Austin\"]\n",
    "states = [\"CA\"]\n",
    "\n",
    "base_url = f\"https://api.careeronestop.org/v1/occupation/{acct_id}\"\n",
    "job = \"Data%20Scientists\"\n",
    "params = \"?training=false&interest=true&videos=false&tasks=false&dwas=false&wages=true\" \\\n",
    "         \"&alternateOnetTitles=false&projectedEmployment=true&ooh=false\" \\\n",
    "         \"&stateLMILinks=false&relatedOnetTitles=false&skills=false&knowledge=false\" \\\n",
    "         \"&ability=false&trainingPrograms=false\"\n",
    "\n",
    "api_urls = []\n",
    "\n",
    "for city in cities:\n",
    "#    for state in states:\n",
    "        api_url = f\"{base_url}/{job}/{city},%20{states}{params}\"\n",
    "        api_urls.append(api_url)\n",
    "\n",
    "for api_url in api_urls:\n",
    "    print(api_urls)\n",
    "    \n",
    "# request = requests.get(api_urls).json()\n",
    "# add in the iterrows to help out"
   ]
  },
  {
   "cell_type": "code",
   "execution_count": null,
   "id": "3b4b7a91",
   "metadata": {},
   "outputs": [],
   "source": [
    "#Section 1b\n",
    "#Linear regression (scatter-plot) - State population (census csv), \n",
    "# data analysts, per state, projected growth per state\n",
    "\n"
   ]
  }
 ],
 "metadata": {
  "kernelspec": {
   "display_name": "Python 3 (ipykernel)",
   "language": "python",
   "name": "python3"
  },
  "language_info": {
   "codemirror_mode": {
    "name": "ipython",
    "version": 3
   },
   "file_extension": ".py",
   "mimetype": "text/x-python",
   "name": "python",
   "nbconvert_exporter": "python",
   "pygments_lexer": "ipython3",
   "version": "3.10.13"
  }
 },
 "nbformat": 4,
 "nbformat_minor": 5
}
